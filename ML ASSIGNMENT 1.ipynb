{
 "cells": [
  {
   "cell_type": "code",
   "execution_count": 17,
   "id": "fe13fb37",
   "metadata": {},
   "outputs": [
    {
     "name": "stdout",
     "output_type": "stream",
     "text": [
      "Collecting scikit-learn\n",
      "  Using cached scikit_learn-1.1.2-cp310-cp310-win_amd64.whl (7.4 MB)\n",
      "Requirement already satisfied: joblib>=1.0.0 in c:\\python\\lib\\site-packages (from scikit-learn) (1.2.0)\n",
      "Requirement already satisfied: numpy>=1.17.3 in c:\\python\\lib\\site-packages (from scikit-learn) (1.23.3)\n",
      "Requirement already satisfied: threadpoolctl>=2.0.0 in c:\\python\\lib\\site-packages (from scikit-learn) (3.1.0)\n",
      "Requirement already satisfied: scipy>=1.3.2 in c:\\python\\lib\\site-packages (from scikit-learn) (1.9.1)\n",
      "Installing collected packages: scikit-learn\n"
     ]
    },
    {
     "name": "stderr",
     "output_type": "stream",
     "text": [
      "ERROR: Could not install packages due to an OSError: [WinError 32] The process cannot access the file because it is being used by another process: 'C:\\\\python\\\\Lib\\\\site-packages\\\\sklearn\\\\linear_model\\\\__init__.py'\n",
      "Consider using the `--user` option or check the permissions.\n",
      "\n"
     ]
    },
    {
     "name": "stdout",
     "output_type": "stream",
     "text": [
      "Collecting sklearn\n",
      "  Using cached sklearn-0.0-py2.py3-none-any.whl\n",
      "Requirement already satisfied: scikit-learn in c:\\python\\lib\\site-packages (from sklearn) (1.1.2)\n",
      "Requirement already satisfied: joblib>=1.0.0 in c:\\python\\lib\\site-packages (from scikit-learn->sklearn) (1.2.0)\n",
      "Requirement already satisfied: threadpoolctl>=2.0.0 in c:\\python\\lib\\site-packages (from scikit-learn->sklearn) (3.1.0)\n",
      "Requirement already satisfied: scipy>=1.3.2 in c:\\python\\lib\\site-packages (from scikit-learn->sklearn) (1.9.1)\n",
      "Requirement already satisfied: numpy>=1.17.3 in c:\\python\\lib\\site-packages (from scikit-learn->sklearn) (1.23.3)\n",
      "Installing collected packages: sklearn\n",
      "Successfully installed sklearn-0.0\n"
     ]
    }
   ],
   "source": [
    "!pip install scikit-learn\n",
    "!pip install sklearn"
   ]
  },
  {
   "cell_type": "code",
   "execution_count": 18,
   "id": "18241211",
   "metadata": {
    "scrolled": false
   },
   "outputs": [
    {
     "name": "stdout",
     "output_type": "stream",
     "text": [
      "Collecting scikit-learn\n",
      "  Using cached scikit_learn-1.1.2-cp310-cp310-win_amd64.whl (7.4 MB)\n",
      "Requirement already satisfied: threadpoolctl>=2.0.0 in c:\\python\\lib\\site-packages (from scikit-learn) (3.1.0)\n",
      "Collecting joblib>=1.0.0\n",
      "  Using cached joblib-1.2.0-py3-none-any.whl (297 kB)\n",
      "Requirement already satisfied: scipy>=1.3.2 in c:\\python\\lib\\site-packages (from scikit-learn) (1.9.1)\n",
      "Requirement already satisfied: numpy>=1.17.3 in c:\\python\\lib\\site-packages (from scikit-learn) (1.23.3)\n",
      "Installing collected packages: joblib, scikit-learn\n",
      "Successfully installed joblib-1.2.0 scikit-learn-1.1.2\n",
      "Collecting sklearn\n",
      "  Downloading sklearn-0.0.tar.gz (1.1 kB)\n",
      "  Preparing metadata (setup.py): started\n",
      "  Preparing metadata (setup.py): finished with status 'done'\n",
      "Collecting scikit-learn\n",
      "  Downloading scikit_learn-1.1.2-cp310-cp310-win_amd64.whl (7.4 MB)\n",
      "     ---------------------------------------- 7.4/7.4 MB 1.2 MB/s eta 0:00:00\n",
      "Collecting joblib>=1.0.0\n",
      "  Downloading joblib-1.2.0-py3-none-any.whl (297 kB)\n",
      "     ------------------------------------ 298.0/298.0 kB 175.3 kB/s eta 0:00:00\n",
      "Collecting threadpoolctl>=2.0.0\n",
      "  Downloading threadpoolctl-3.1.0-py3-none-any.whl (14 kB)\n",
      "Requirement already satisfied: numpy>=1.17.3 in c:\\python\\lib\\site-packages (from scikit-learn->sklearn) (1.23.3)\n",
      "Collecting scipy>=1.3.2\n",
      "  Downloading scipy-1.9.1-cp310-cp310-win_amd64.whl (38.6 MB)\n",
      "     -------------------------------------- 38.6/38.6 MB 498.3 kB/s eta 0:00:00\n",
      "Building wheels for collected packages: sklearn\n",
      "  Building wheel for sklearn (setup.py): started\n",
      "  Building wheel for sklearn (setup.py): finished with status 'done'\n",
      "  Created wheel for sklearn: filename=sklearn-0.0-py2.py3-none-any.whl size=1304 sha256=e420ca49d14f0c31583563d55e22641de78a01dfe7f768954cbbac53866c6b8f\n",
      "  Stored in directory: c:\\users\\anand\\appdata\\local\\pip\\cache\\wheels\\9b\\13\\01\\6f3a7fd641f90e1f6c8c7cded057f3394f451f340371c68f3d\n",
      "Successfully built sklearn\n",
      "Installing collected packages: threadpoolctl, scipy, joblib, scikit-learn, sklearn\n"
     ]
    },
    {
     "name": "stderr",
     "output_type": "stream",
     "text": [
      "ERROR: Could not install packages due to an OSError: [WinError 5] Access is denied: 'C:\\\\python\\\\Lib\\\\site-packages\\\\sklearn\\\\.libs\\\\vcomp140.dll'\n",
      "Consider using the `--user` option or check the permissions.\n",
      "\n"
     ]
    }
   ],
   "source": [
    "from keras.datasets import mnist\n",
    "from matplotlib import pyplot\n",
    "from sklearn import neighbors\n",
    "from sklearn.metrics import confusion_matrix, classification_report\n",
    "import numpy as np"
   ]
  },
  {
   "cell_type": "code",
   "execution_count": 19,
   "id": "3830c681",
   "metadata": {},
   "outputs": [
    {
     "name": "stdout",
     "output_type": "stream",
     "text": [
      "X_train: (60000, 28, 28)\n",
      "Y_train: (60000,)\n",
      "X_test:  (10000, 28, 28)\n",
      "Y_test:  (10000,)\n"
     ]
    },
    {
     "data": {
      "image/png": "[encoded data removed]",
      "text/plain": [
       "<Figure size 640x480 with 9 Axes>"
      ]
     },
     "metadata": {},
     "output_type": "display_data"
    }
   ],
   "source": [
    "#loading\n",
    "(train_x, train_y), (test_x, test_y) = mnist.load_data()\n",
    " \n",
    "#shape of dataset\n",
    "print('X_train: ' + str(train_x.shape))\n",
    "print('Y_train: ' + str(train_y.shape))\n",
    "print('X_test:  '  + str(test_x.shape))\n",
    "print('Y_test:  '  + str(test_y.shape))\n",
    " \n",
    "#plotting\n",
    "from matplotlib import pyplot\n",
    "for i in range(9):  \n",
    "    pyplot.subplot(330 + 1 + i)\n",
    "    pyplot.imshow(train_x[i], cmap=pyplot.get_cmap('gray'))\n",
    "pyplot.show()"
   ]
  },
  {
   "cell_type": "code",
   "execution_count": 20,
   "id": "4937d2e8",
   "metadata": {},
   "outputs": [
    {
     "name": "stdout",
     "output_type": "stream",
     "text": [
      "total dataset = 4900\n",
      "test dataset = 980.0\n"
     ]
    }
   ],
   "source": [
    "n = ((9+30)*100) + 1000\n",
    "print(\"total dataset =\",n)\n",
    "\n",
    "t = n*0.2\n",
    "print(\"test dataset =\",t)"
   ]
  },
  {
   "cell_type": "code",
   "execution_count": 21,
   "id": "8a4fbe01",
   "metadata": {},
   "outputs": [],
   "source": [
    "(Tx , Ty) = (train_x[:4900] , train_y[:4900])\n",
    "(tx, ty) = (test_x[:980] , test_y[:980])"
   ]
  },
  {
   "cell_type": "code",
   "execution_count": 22,
   "id": "927e7b42",
   "metadata": {},
   "outputs": [
    {
     "data": {
      "text/plain": [
       "(4900, 28, 28)"
      ]
     },
     "execution_count": 22,
     "metadata": {},
     "output_type": "execute_result"
    }
   ],
   "source": [
    "Tx.shape"
   ]
  },
  {
   "cell_type": "code",
   "execution_count": 23,
   "id": "00631145",
   "metadata": {},
   "outputs": [
    {
     "data": {
      "text/plain": [
       "(4900, 28, 28)"
      ]
     },
     "execution_count": 23,
     "metadata": {},
     "output_type": "execute_result"
    }
   ],
   "source": [
    "Tx.shape"
   ]
  },
  {
   "cell_type": "code",
   "execution_count": 24,
   "id": "493dfeb1",
   "metadata": {},
   "outputs": [],
   "source": [
    "Tx = Tx.flatten().reshape(len(Tx),-1)\n",
    "tx = tx.flatten().reshape(len(tx),-1)"
   ]
  },
  {
   "cell_type": "code",
   "execution_count": 25,
   "id": "653e96c4",
   "metadata": {},
   "outputs": [
    {
     "data": {
      "text/plain": [
       "(4900, 784)"
      ]
     },
     "execution_count": 25,
     "metadata": {},
     "output_type": "execute_result"
    }
   ],
   "source": [
    "Tx = Tx.flatten().reshape(len(Tx),-1)\n",
    "tx = tx.flatten().reshape(len(tx),-1)"
   ]
  },
  {
   "cell_type": "code",
   "execution_count": 26,
   "id": "c97da7b6",
   "metadata": {},
   "outputs": [
    {
     "data": {
      "text/plain": [
       "(980, 784)"
      ]
     },
     "execution_count": 26,
     "metadata": {},
     "output_type": "execute_result"
    }
   ],
   "source": [
    "tx.shape"
   ]
  },
  {
   "cell_type": "code",
   "execution_count": 27,
   "id": "d8864be7",
   "metadata": {},
   "outputs": [
    {
     "name": "stdout",
     "output_type": "stream",
     "text": [
      "              precision    recall  f1-score   support\n",
      "\n",
      "           0       0.95      0.98      0.97       469\n",
      "           1       0.80      0.99      0.88       543\n",
      "           2       0.99      0.84      0.91       480\n",
      "           3       0.92      0.91      0.92       486\n",
      "           4       0.95      0.91      0.93       530\n",
      "           5       0.95      0.89      0.92       425\n",
      "           6       0.94      0.97      0.95       491\n",
      "           7       0.92      0.93      0.92       538\n",
      "           8       0.97      0.83      0.90       456\n",
      "           9       0.87      0.94      0.90       482\n",
      "\n",
      "    accuracy                           0.92      4900\n",
      "   macro avg       0.93      0.92      0.92      4900\n",
      "weighted avg       0.92      0.92      0.92      4900\n",
      "\n"
     ]
    }
   ],
   "source": [
    "k = 30\n",
    "\n",
    "knn = neighbors.KNeighborsClassifier(k, weights = 'uniform')\n",
    "knn.fit(Tx , Ty)\n",
    "pred = knn.predict(Tx)\n",
    "\n",
    "confusion = confusion_matrix(Ty, pred)\n",
    "\n",
    "\n",
    "report = classification_report(Ty, pred)\n",
    "print(report)"
   ]
  },
  {
   "cell_type": "code",
   "execution_count": 28,
   "id": "15d98edd",
   "metadata": {},
   "outputs": [
    {
     "name": "stdout",
     "output_type": "stream",
     "text": [
      "[[ 79.   0.   0.   0.   0.   0.   3.   0.   0.   0.]\n",
      " [  0. 123.   0.   0.   0.   0.   0.   0.   0.   0.]\n",
      " [  3.  20.  74.   2.   1.   0.   1.   6.   4.   0.]\n",
      " [  0.   6.   1.  91.   0.   1.   1.   2.   1.   2.]\n",
      " [  0.   3.   0.   0.  96.   0.   2.   0.   0.   9.]\n",
      " [  1.   4.   0.   2.   1.  75.   2.   0.   0.   2.]\n",
      " [  2.   0.   0.   0.   1.   2.  80.   0.   0.   0.]\n",
      " [  0.   9.   0.   0.   1.   0.   0.  86.   0.   2.]\n",
      " [  3.   2.   1.   5.   2.   1.   1.   1.  67.   4.]\n",
      " [  0.   1.   0.   1.   2.   0.   0.   1.   0.  87.]]\n"
     ]
    }
   ],
   "source": [
    "cross_val = 60\n",
    "confusion = np.zeros((10,10))\n",
    "for i in range(cross_val):\n",
    "    knn = neighbors.KNeighborsClassifier(k, weights = 'uniform')\n",
    "    knn.fit(Tx , Ty)\n",
    "    pred = knn.predict(tx)\n",
    "    confusion1 = confusion + confusion_matrix(ty, pred)\n",
    "    confusion = confusion1\n",
    "    \n",
    "confusion = confusion/cross_val\n",
    "print(confusion)"
   ]
  },
  {
   "cell_type": "code",
   "execution_count": 29,
   "id": "b08e347f",
   "metadata": {},
   "outputs": [
    {
     "name": "stdout",
     "output_type": "stream",
     "text": [
      "              precision    recall  f1-score   support\n",
      "\n",
      "           0       0.90      0.96      0.93        82\n",
      "           1       0.73      1.00      0.85       123\n",
      "           2       0.97      0.67      0.79       111\n",
      "           3       0.90      0.87      0.88       105\n",
      "           4       0.92      0.87      0.90       110\n",
      "           5       0.95      0.86      0.90        87\n",
      "           6       0.89      0.94      0.91        85\n",
      "           7       0.90      0.88      0.89        98\n",
      "           8       0.93      0.77      0.84        87\n",
      "           9       0.82      0.95      0.88        92\n",
      "\n",
      "    accuracy                           0.88       980\n",
      "   macro avg       0.89      0.88      0.88       980\n",
      "weighted avg       0.89      0.88      0.87       980\n",
      "\n"
     ]
    }
   ],
   "source": [
    "report = classification_report(ty, pred)\n",
    "print(report)"
   ]
  },
  {
   "cell_type": "code",
   "execution_count": 30,
   "id": "81f51aab",
   "metadata": {},
   "outputs": [
    {
     "name": "stdout",
     "output_type": "stream",
     "text": [
      "              precision    recall  f1-score   support\n",
      "\n",
      "           0       0.90      0.96      0.93        82\n",
      "           1       0.73      1.00      0.85       123\n",
      "           2       0.97      0.67      0.79       111\n",
      "           3       0.90      0.87      0.88       105\n",
      "           4       0.92      0.87      0.90       110\n",
      "           5       0.95      0.86      0.90        87\n",
      "           6       0.89      0.94      0.91        85\n",
      "           7       0.90      0.88      0.89        98\n",
      "           8       0.93      0.77      0.84        87\n",
      "           9       0.82      0.95      0.88        92\n",
      "\n",
      "    accuracy                           0.88       980\n",
      "   macro avg       0.89      0.88      0.88       980\n",
      "weighted avg       0.89      0.88      0.87       980\n",
      "\n"
     ]
    },
    {
     "data": {
      "text/plain": [
       "array([[ 79,   0,   0,   0,   0,   0,   3,   0,   0,   0],\n",
       "       [  0, 123,   0,   0,   0,   0,   0,   0,   0,   0],\n",
       "       [  3,  20,  74,   2,   1,   0,   1,   6,   4,   0],\n",
       "       [  0,   6,   1,  91,   0,   1,   1,   2,   1,   2],\n",
       "       [  0,   3,   0,   0,  96,   0,   2,   0,   0,   9],\n",
       "       [  1,   4,   0,   2,   1,  75,   2,   0,   0,   2],\n",
       "       [  2,   0,   0,   0,   1,   2,  80,   0,   0,   0],\n",
       "       [  0,   9,   0,   0,   1,   0,   0,  86,   0,   2],\n",
       "       [  3,   2,   1,   5,   2,   1,   1,   1,  67,   4],\n",
       "       [  0,   1,   0,   1,   2,   0,   0,   1,   0,  87]], dtype=int64)"
      ]
     },
     "execution_count": 30,
     "metadata": {},
     "output_type": "execute_result"
    }
   ],
   "source": [
    "knn = neighbors.KNeighborsClassifier(k, weights = 'uniform')\n",
    "knn.fit(Tx , Ty)\n",
    "pred = knn.predict(tx)\n",
    "\n",
    "confusion = confusion_matrix(ty, pred)\n",
    "\n",
    "report = classification_report(ty, pred)\n",
    "print(report)\n",
    "confusion"
   ]
  },
  {
   "cell_type": "code",
   "execution_count": null,
   "id": "ad3db94d",
   "metadata": {},
   "outputs": [],
   "source": []
  },
  {
   "cell_type": "code",
   "execution_count": null,
   "id": "78968ea2",
   "metadata": {},
   "outputs": [],
   "source": []
  },
  {
   "cell_type": "code",
   "execution_count": null,
   "id": "dd357a69",
   "metadata": {},
   "outputs": [],
   "source": []
  },
  {
   "cell_type": "code",
   "execution_count": null,
   "id": "ea106492",
   "metadata": {},
   "outputs": [],
   "source": []
  },
  {
   "cell_type": "code",
   "execution_count": null,
   "id": "674652a3",
   "metadata": {},
   "outputs": [],
   "source": []
  }
 ],
 "metadata": {
  "kernelspec": {
   "display_name": "Python 3 (ipykernel)",
   "language": "python",
   "name": "python3"
  },
  "language_info": {
   "codemirror_mode": {
    "name": "ipython",
    "version": 3
   },
   "file_extension": ".py",
   "mimetype": "text/x-python",
   "name": "python",
   "nbconvert_exporter": "python",
   "pygments_lexer": "ipython3",
   "version": "3.10.7"
  }
 },
 "nbformat": 4,
 "nbformat_minor": 5
}
